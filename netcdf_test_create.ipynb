{
 "cells": [
  {
   "cell_type": "code",
   "execution_count": 1,
   "metadata": {},
   "outputs": [],
   "source": [
    "import numpy as np\n",
    "import netCDF4 as nc"
   ]
  },
  {
   "cell_type": "code",
   "execution_count": 2,
   "metadata": {},
   "outputs": [],
   "source": [
    "# create file save path and netcdf file\n",
    "fn = '/Users/acryan/Desktop/netcdf_trial/processed_data/test.nc'\n",
    "ds = nc.Dataset(fn, 'w', format='NETCDF4')"
   ]
  },
  {
   "cell_type": "code",
   "execution_count": 3,
   "metadata": {},
   "outputs": [],
   "source": [
    "# time, width x, height y\n",
    "# time is unlimited which allows time steps to be added to the file\n",
    "# can specify the sizes of other dimensions manually\n",
    "# resulting grid is x rows by y columns\n",
    "time = ds.createDimension('time', None)\n",
    "cml_id = ds.createDimension('cml_id', 10)\n",
    "sublink_id = ds.createDimension('sublink_id', 20)"
   ]
  },
  {
   "cell_type": "code",
   "execution_count": 10,
   "metadata": {},
   "outputs": [],
   "source": [
    "# add netCDF variables\n",
    "# contain the actual data of the file\n",
    "# define the grid the data are referenced to\n",
    "# cml_id and sublink_id define grid values and data locations\n",
    "# times defines layers in the data file\n",
    "# value contains actual data\n",
    "# To create a variable, specify the variable name, data type, and shape\n",
    "# this file contains four variables, including times, cml, sublink, and values\n",
    "\n",
    "times = ds.createVariable('time', 'f4', ('time'),)\n",
    "cml_ids = ds.createVariable('cml_id', 'f4', ('cml_id',)) #there will always be 2, if more need a way to filter\n",
    "sublink_ids = ds.createVariable('sublink_id', 'f4', (sublink_id,)) # compound sublink_id+cml_id \n",
    "value = ds.createVariable('value', 'f4', ('time', 'cml_id', 'sublink_id',))\n",
    "value.units = 'Unknown'\n"
   ]
  },
  {
   "cell_type": "code",
   "execution_count": 11,
   "metadata": {},
   "outputs": [],
   "source": [
    "# assign cml and sublink values that match the dimensions of the grid we've just created\n",
    "# create some fake numerical data\n",
    "\n",
    "cml_ids[:] = np.arange(40.0, 50.0, 1.0)\n",
    "sublink_ids[:] = np.arange(-110.0, -100.0, 0.5)"
   ]
  },
  {
   "cell_type": "code",
   "execution_count": 14,
   "metadata": {},
   "outputs": [
    {
     "name": "stdout",
     "output_type": "stream",
     "text": [
      "var size after adding first data (1, 10, 20)\n"
     ]
    }
   ],
   "source": [
    "# add data\n",
    "# each time step is represented by 2D numpy array\n",
    "# size of each array must match cml_id x sublink_id dimensions\n",
    "\n",
    "# create an array of random numbers ranging from 0-200\n",
    "# this array contains data from the first time step at index 0\n",
    "value[0, :, :] = np.random.uniform(0,200, size=(10, 20))\n",
    "print('var size after adding first data', value.shape)\n",
    "\n",
    "# create an array with values that increase linearly from 0.5 to 5.0\n",
    "# create two 1D arrays and add them together across opposing axes\n",
    "xval = np.linspace(0.5, 5.0, 10)\n",
    "yval = np.linspace(0.5, 5.0, 20)\n",
    "\n",
    "# assign arrays to value\n",
    "value[1, :, :] = np.array(xval.reshape(-1,1)+yval)\n",
    "\n",
    "# close netcdf file\n",
    "ds.close()\n",
    "\n"
   ]
  },
  {
   "attachments": {},
   "cell_type": "markdown",
   "metadata": {},
   "source": [
    "https://pro.arcgis.com/en/pro-app/latest/help/data/multidimensional/fundamentals-of-netcdf-data-storage.htm\n",
    "https://publicwiki.deltares.nl/display/OET/Creating+a+netCDF+file+with+R\n",
    "https://unidata.github.io/python-training/workshop/CF%20Conventions/netcdf-and-cf-the-basics/\n",
    "https://towardsdatascience.com/read-netcdf-data-with-python-901f7ff61648 \n",
    "https://opensourceoptions.com/blog/create-netcdf-files-with-python/ "
   ]
  }
 ],
 "metadata": {
  "kernelspec": {
   "display_name": "Python 3.11.0 ('netcdf')",
   "language": "python",
   "name": "python3"
  },
  "language_info": {
   "codemirror_mode": {
    "name": "ipython",
    "version": 3
   },
   "file_extension": ".py",
   "mimetype": "text/x-python",
   "name": "python",
   "nbconvert_exporter": "python",
   "pygments_lexer": "ipython3",
   "version": "3.11.0"
  },
  "orig_nbformat": 4,
  "vscode": {
   "interpreter": {
    "hash": "c4f5b28d933a2ab09a5f6c86d4609530b2f0ac554d3a52fe3ad7fe21b6433cd3"
   }
  }
 },
 "nbformat": 4,
 "nbformat_minor": 2
}
